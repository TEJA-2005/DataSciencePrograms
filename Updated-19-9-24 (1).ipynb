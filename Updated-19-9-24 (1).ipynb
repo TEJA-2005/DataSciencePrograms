{
 "cells": [
  {
   "cell_type": "code",
   "execution_count": 6,
   "metadata": {},
   "outputs": [
    {
     "name": "stdout",
     "output_type": "stream",
     "text": [
      "[[1. 0. 0.]\n",
      " [0. 1. 0.]\n",
      " [0. 0. 1.]]\n"
     ]
    }
   ],
   "source": [
    "#importing numpy as np and printing an identity matrix \n",
    "\n",
    "import numpy as np \n",
    "i = np.eye(3)\n",
    "print(\"Identity matrix : \")\n",
    "print(i)\n",
    "\n"
   ]
  },
  {
   "cell_type": "code",
   "execution_count": 10,
   "metadata": {},
   "outputs": [
    {
     "name": "stdout",
     "output_type": "stream",
     "text": [
      "shape of the array:\n",
      "(2, 4)\n",
      "Before Reshape : \n",
      "[ 1  2  3  4  5  6  7  8  9 10 11 12]\n",
      "After Reshape\n",
      "[[ 1  2  3  4]\n",
      " [ 5  6  7  8]\n",
      " [ 9 10 11 12]]\n"
     ]
    }
   ],
   "source": [
    "#shape and reshape of array \n",
    "\n",
    "arr = np.array([[1,2,3,4],[5,6,7,8]])\n",
    "print(\"shape of the array:\")\n",
    "print(arr.shape)\n",
    "arr = np.array([1,2,3,4,5,6,7,8,9,10,11,12])\n",
    "print(\"Before Reshape : \")\n",
    "print(arr)\n",
    "newarr = arr.reshape(3,4)\n",
    "print(\"After Reshape\")\n",
    "print(newarr)\n"
   ]
  },
  {
   "cell_type": "code",
   "execution_count": 15,
   "metadata": {},
   "outputs": [
    {
     "name": "stdout",
     "output_type": "stream",
     "text": [
      "[1 2 3 4 5 6 7 8]\n",
      "[5 6 7 8]\n"
     ]
    }
   ],
   "source": [
    "# flatten an array \n",
    "print(\"Flattenening array : \")\n",
    "arr = np.array([[1,2,3,4],[5,6,7,8]])\n",
    "print(arr.flatten())\n",
    "# printing arr elements greater than 4 \n",
    "print(\"Elements greater than 4 :\")\n",
    "print(arr[arr>4])\n",
    "\n",
    "#---> End of NUMPY"
   ]
  },
  {
   "cell_type": "code",
   "execution_count": 20,
   "metadata": {},
   "outputs": [
    {
     "name": "stdout",
     "output_type": "stream",
     "text": [
      "Series represnetation in pandas\n",
      "0    1\n",
      "1    2\n",
      "2    3\n",
      "3    4\n",
      "4    5\n",
      "dtype: int64\n",
      "Data Frame representation in pandas\n",
      "        Name  Age       city\n",
      "0       Teja   19  New York \n",
      "1  Sudhanshu   20  New Delhi\n",
      "2      Soham   21     London\n"
     ]
    }
   ],
   "source": [
    "# importing pandas \n",
    "import pandas as pd \n",
    "# series \n",
    "print(\"Series represnetation in pandas\")\n",
    "data = [1,2,3,4,5]\n",
    "series = pd.Series(data)\n",
    "print(series)\n",
    "print(\"Data Frame representation in pandas\")\n",
    "data = {\n",
    "    'Name' : ['Teja','Sudhanshu','Soham'],\n",
    "    'Age' : [19,20,21],\n",
    "    'city' : ['New York ' , 'New Delhi' , 'London']\n",
    "    }\n",
    "\n",
    "df = pd.DataFrame(data)\n",
    "print(df)\n",
    "\n"
   ]
  },
  {
   "cell_type": "code",
   "execution_count": 25,
   "metadata": {},
   "outputs": [
    {
     "data": {
      "text/plain": [
       "[<matplotlib.lines.Line2D at 0x1eaad7dbc88>]"
      ]
     },
     "execution_count": 25,
     "metadata": {},
     "output_type": "execute_result"
    },
    {
     "data": {
      "image/png": "[encoded data removed]",
      "text/plain": [
       "<Figure size 432x288 with 1 Axes>"
      ]
     },
     "metadata": {
      "needs_background": "light"
     },
     "output_type": "display_data"
    }
   ],
   "source": [
    "# importin matplotlib \n",
    "import matplotlib.pyplot  as plt \n",
    "x = [1,2,3,4,5]\n",
    "y = [10,20,25,30,35]\n",
    "plt.plot(x,y,marker='o')\n"
   ]
  },
  {
   "cell_type": "code",
   "execution_count": 32,
   "metadata": {},
   "outputs": [
    {
     "data": {
      "image/png": "[encoded data removed]",
      "text/plain": [
       "<Figure size 432x288 with 1 Axes>"
      ]
     },
     "metadata": {
      "needs_background": "light"
     },
     "output_type": "display_data"
    }
   ],
   "source": [
    "#importing seaborn  \n",
    "import seaborn as sns \n",
    "tips = sns.load_dataset(\"tips\")\n",
    "sns.boxplot(x=\"day\",y=\"total_bill\",data = tips)\n",
    "plt.title(\"box plot total bill by day\")\n",
    "plt.show()\n"
   ]
  },
  {
   "cell_type": "code",
   "execution_count": 37,
   "metadata": {},
   "outputs": [
    {
     "name": "stdout",
     "output_type": "stream",
     "text": [
      "Missing replaced with mean and unknown \n",
      "        Name   Age       city\n",
      "0       Teja  19.0  New York \n",
      "1  Sudhanshu  20.0  New Delhi\n",
      "2      Soham  21.0    unknown\n",
      "\n",
      "Missing values dropped\n",
      "   Name   Age       city\n",
      "0  Teja  19.0  New York \n"
     ]
    }
   ],
   "source": [
    "# Data Preprocessing \n",
    "#Handling missing data \n",
    "\n",
    "data = {\n",
    "    'Name' : ['Teja','Sudhanshu','Soham'],\n",
    "    'Age' : [19,None,21],\n",
    "    'city' : ['New York ' , 'New Delhi' , None]\n",
    "    }\n",
    "\n",
    "df = pd.DataFrame(data)\n",
    "df_filled = df.fillna({'Age':df['Age'].mean() , 'city':'unknown'})\n",
    "print(\"Missing replaced with mean and unknown \")\n",
    "print(df_filled)\n",
    "\n",
    "print()\n",
    "\n",
    "df_dropped = df.dropna()\n",
    "print(\"Missing values dropped\")\n",
    "print(df_dropped)\n",
    "\n",
    "\n"
   ]
  },
  {
   "cell_type": "code",
   "execution_count": 46,
   "metadata": {},
   "outputs": [
    {
     "name": "stdout",
     "output_type": "stream",
     "text": [
      "First few rows of the DataFrame:\n",
      "   sepal_length  sepal_width  petal_length  petal_width species\n",
      "0           5.1          3.5           1.4          0.2  setosa\n",
      "1           4.9          3.0           NaN          0.2  setosa\n",
      "2           4.7          3.2           1.3          0.2  setosa\n",
      "3           4.6          3.1           1.5          0.2  setosa\n",
      "4           5.0          3.6           1.4          0.2  setosa\n",
      "\n",
      "Information about the DataFrame:\n",
      "<class 'pandas.core.frame.DataFrame'>\n",
      "RangeIndex: 150 entries, 0 to 149\n",
      "Data columns (total 5 columns):\n",
      "sepal_length    150 non-null float64\n",
      "sepal_width     150 non-null float64\n",
      "petal_length    149 non-null float64\n",
      "petal_width     150 non-null float64\n",
      "species         150 non-null object\n",
      "dtypes: float64(4), object(1)\n",
      "memory usage: 6.0+ KB\n",
      "None\n",
      "Missing value:\n",
      " sepal_length    0\n",
      "sepal_width     0\n",
      "petal_length    1\n",
      "petal_width     0\n",
      "species         0\n",
      "dtype: int64\n",
      "Replace\n",
      "   sepal_length  sepal_width  petal_length  petal_width species\n",
      "0           5.1          3.5      1.400000          0.2  setosa\n",
      "1           4.9          3.0      3.773826          0.2  setosa\n",
      "2           4.7          3.2      1.300000          0.2  setosa\n",
      "3           4.6          3.1      1.500000          0.2  setosa\n",
      "4           5.0          3.6      1.400000          0.2  setosa\n",
      "Drop\n",
      "   sepal_length  sepal_width  petal_length  petal_width species\n",
      "0           5.1          3.5      1.400000          0.2  setosa\n",
      "1           4.9          3.0      3.773826          0.2  setosa\n",
      "2           4.7          3.2      1.300000          0.2  setosa\n",
      "3           4.6          3.1      1.500000          0.2  setosa\n",
      "4           5.0          3.6      1.400000          0.2  setosa\n"
     ]
    }
   ],
   "source": [
    "# loading and handling missing values 'iris'\n",
    "import pandas as pd\n",
    "\n",
    "# Specify the correct file path using raw string or forward slashes\n",
    "file_path = r'C:\\Users\\cvr\\seaborn-data\\iris.csv'\n",
    "\n",
    "# Load the Iris dataset into a pandas DataFrame\n",
    "df = pd.read_csv(file_path)\n",
    "\n",
    "\n",
    "print(\"First few rows of the DataFrame:\")\n",
    "print(df.head())\n",
    "\n",
    "print()\n",
    "\n",
    "\n",
    "print(\"Information about the DataFrame:\")\n",
    "print(df.info())\n",
    "\n",
    "print(\"Missing value:\\n\",df.isnull().sum())\n",
    "print(\"Replace\")\n",
    "df.fillna(df.mean(),inplace=True)\n",
    "\n",
    "print(df.head())\n",
    "print(\"Drop\")\n",
    "df.dropna(inplace=True)\n",
    "print(df.head())\n",
    "\n"
   ]
  },
  {
   "cell_type": "code",
   "execution_count": 51,
   "metadata": {},
   "outputs": [
    {
     "ename": "AttributeError",
     "evalue": "'OneHotEncoder' object has no attribute 'get_feature'",
     "output_type": "error",
     "traceback": [
      "\u001b[1;31m---------------------------------------------------------------------------\u001b[0m",
      "\u001b[1;31mAttributeError\u001b[0m                            Traceback (most recent call last)",
      "\u001b[1;32m<ipython-input-51-f282a2b84744>\u001b[0m in \u001b[0;36m<module>\u001b[1;34m\u001b[0m\n\u001b[0;32m      6\u001b[0m \u001b[0mencoder\u001b[0m \u001b[1;33m=\u001b[0m \u001b[0mOneHotEncoder\u001b[0m\u001b[1;33m(\u001b[0m\u001b[1;33m)\u001b[0m\u001b[1;33m\u001b[0m\u001b[1;33m\u001b[0m\u001b[0m\n\u001b[0;32m      7\u001b[0m \u001b[0mencoded_data\u001b[0m \u001b[1;33m=\u001b[0m \u001b[0mencoder\u001b[0m\u001b[1;33m.\u001b[0m\u001b[0mfit_transform\u001b[0m\u001b[1;33m(\u001b[0m\u001b[0mdata\u001b[0m\u001b[1;33m[\u001b[0m\u001b[1;33m[\u001b[0m\u001b[1;34m'color'\u001b[0m\u001b[1;33m]\u001b[0m\u001b[1;33m]\u001b[0m\u001b[1;33m)\u001b[0m\u001b[1;33m.\u001b[0m\u001b[0mtoarray\u001b[0m\u001b[1;33m(\u001b[0m\u001b[1;33m)\u001b[0m\u001b[1;33m\u001b[0m\u001b[1;33m\u001b[0m\u001b[0m\n\u001b[1;32m----> 8\u001b[1;33m \u001b[0mencoded_df\u001b[0m \u001b[1;33m=\u001b[0m \u001b[0mpd\u001b[0m\u001b[1;33m.\u001b[0m\u001b[0mDataFrame\u001b[0m\u001b[1;33m(\u001b[0m\u001b[0mencoded_data\u001b[0m\u001b[1;33m,\u001b[0m\u001b[0mcolumns\u001b[0m\u001b[1;33m=\u001b[0m\u001b[0mencoder\u001b[0m\u001b[1;33m.\u001b[0m\u001b[0mget_feature\u001b[0m\u001b[1;33m)\u001b[0m\u001b[1;33m\u001b[0m\u001b[1;33m\u001b[0m\u001b[0m\n\u001b[0m\u001b[0;32m      9\u001b[0m \u001b[0mprint\u001b[0m\u001b[1;33m(\u001b[0m\u001b[0mencoded_df\u001b[0m\u001b[1;33m)\u001b[0m\u001b[1;33m\u001b[0m\u001b[1;33m\u001b[0m\u001b[0m\n",
      "\u001b[1;31mAttributeError\u001b[0m: 'OneHotEncoder' object has no attribute 'get_feature'"
     ]
    }
   ],
   "source": [
    "# Handling Categorical Data \n",
    "from sklearn.preprocessing import OneHotEncoder\n",
    "import pandas as pd \n",
    "\n",
    "data = pd.DataFrame({'color':['Red','Green','Blue','Green']})\n",
    "encoder = OneHotEncoder()\n",
    "encoded_data = encoder.fit_transform(data[['color']]).toarray()\n",
    "encoded_df = pd.DataFrame(encoded_data,columns=encoder.get_feature)\n",
    "print(encoded_df)\n"
   ]
  },
  {
   "cell_type": "code",
   "execution_count": 1,
   "metadata": {},
   "outputs": [
    {
     "name": "stdout",
     "output_type": "stream",
     "text": [
      "Data Frame Head:\n",
      "    Id  SepalLengthCm  SepalWidthCm  PetalLengthCm  PetalWidthCm      Species\n",
      "0   1            5.1           3.5            1.4           0.2  Iris-setosa\n",
      "1   2            4.9           3.0            1.4           0.2  Iris-setosa\n",
      "2   3            4.7           3.2            1.3           0.2  Iris-setosa\n",
      "3   4            4.6           3.1            1.5           0.2  Iris-setosa\n",
      "4   5            5.0           3.6            1.4           0.2  Iris-setosa\n",
      "<class 'pandas.core.frame.DataFrame'>\n",
      "RangeIndex: 150 entries, 0 to 149\n",
      "Data columns (total 6 columns):\n",
      " #   Column         Non-Null Count  Dtype  \n",
      "---  ------         --------------  -----  \n",
      " 0   Id             150 non-null    int64  \n",
      " 1   SepalLengthCm  150 non-null    float64\n",
      " 2   SepalWidthCm   150 non-null    float64\n",
      " 3   PetalLengthCm  150 non-null    float64\n",
      " 4   PetalWidthCm   150 non-null    float64\n",
      " 5   Species        150 non-null    object \n",
      "dtypes: float64(4), int64(1), object(1)\n",
      "memory usage: 7.2+ KB\n",
      "Data Frame Info:\n",
      " None\n"
     ]
    }
   ],
   "source": [
    "# Dated : 8th August , 2024 \n",
    "\n",
    "# Implementing Dimensionality reduction using Principal Component Analysis (PCA) : \n",
    "\n",
    "import pandas as pd \n",
    "#loading the dataset below , make sure that iris dataset is downloaded (or download from github or kaggle)\n",
    "df = pd.read_csv('Iris.csv')\n",
    "print(\"Data Frame Head:\\n\",df.head())\n",
    "print(\"Data Frame Info:\\n\",df.info())\n"
   ]
  },
  {
   "cell_type": "code",
   "execution_count": 6,
   "metadata": {
    "scrolled": true
   },
   "outputs": [
    {
     "name": "stdout",
     "output_type": "stream",
     "text": [
      "Missing Values:\n",
      " Id               0\n",
      "SepalLengthCm    0\n",
      "SepalWidthCm     0\n",
      "PetalLengthCm    0\n",
      "PetalWidthCm     0\n",
      "Species          0\n",
      "dtype: int64\n"
     ]
    },
    {
     "name": "stderr",
     "output_type": "stream",
     "text": [
      "C:\\Users\\CVR\\AppData\\Local\\Temp\\ipykernel_10148\\2831836704.py:4: FutureWarning: Dropping of nuisance columns in DataFrame reductions (with 'numeric_only=None') is deprecated; in a future version this will raise TypeError.  Select only valid columns before calling the reduction.\n",
      "  df.fillna(df.mean(),inplace=True)\n"
     ]
    }
   ],
   "source": [
    "#checking for  missing values \n",
    "print(\"Missing Values:\\n\",df.isnull().sum())\n",
    "#fill the missing values with null\n",
    "df.fillna(df.mean(),inplace=True)\n",
    "#Here, iris is a perfect dataset so no missing values , output shows that '0' Missing values exist in each column\n"
   ]
  },
  {
   "cell_type": "code",
   "execution_count": 7,
   "metadata": {},
   "outputs": [
    {
     "name": "stdout",
     "output_type": "stream",
     "text": [
      "Encoded Data Frame Head :\n",
      "    Id  SepalLengthCm  SepalWidthCm  PetalLengthCm  PetalWidthCm  \\\n",
      "0   1            5.1           3.5            1.4           0.2   \n",
      "1   2            4.9           3.0            1.4           0.2   \n",
      "2   3            4.7           3.2            1.3           0.2   \n",
      "3   4            4.6           3.1            1.5           0.2   \n",
      "4   5            5.0           3.6            1.4           0.2   \n",
      "\n",
      "   Species_Iris-versicolor  Species_Iris-virginica  \n",
      "0                        0                       0  \n",
      "1                        0                       0  \n",
      "2                        0                       0  \n",
      "3                        0                       0  \n",
      "4                        0                       0  \n"
     ]
    }
   ],
   "source": [
    "#Encoding categorical variables using one hot encoding \n",
    "\n",
    "df_encoded = pd.get_dummies(df,columns=['Species'],drop_first=True)\n",
    "print(\"Encoded Data Frame Head :\\n\",df_encoded.head())\n"
   ]
  },
  {
   "cell_type": "code",
   "execution_count": 12,
   "metadata": {},
   "outputs": [
    {
     "name": "stdout",
     "output_type": "stream",
     "text": [
      "[[-9.00681170e-01  1.03205722e+00 -1.34127240e+00 -1.31297673e+00\n",
      "  -7.07106781e-01 -7.07106781e-01]\n",
      " [-1.14301691e+00 -1.24957601e-01 -1.34127240e+00 -1.31297673e+00\n",
      "  -7.07106781e-01 -7.07106781e-01]\n",
      " [-1.38535265e+00  3.37848329e-01 -1.39813811e+00 -1.31297673e+00\n",
      "  -7.07106781e-01 -7.07106781e-01]\n",
      " [-1.50652052e+00  1.06445364e-01 -1.28440670e+00 -1.31297673e+00\n",
      "  -7.07106781e-01 -7.07106781e-01]\n",
      " [-1.02184904e+00  1.26346019e+00 -1.34127240e+00 -1.31297673e+00\n",
      "  -7.07106781e-01 -7.07106781e-01]\n",
      " [-5.37177559e-01  1.95766909e+00 -1.17067529e+00 -1.05003079e+00\n",
      "  -7.07106781e-01 -7.07106781e-01]\n",
      " [-1.50652052e+00  8.00654259e-01 -1.34127240e+00 -1.18150376e+00\n",
      "  -7.07106781e-01 -7.07106781e-01]\n",
      " [-1.02184904e+00  8.00654259e-01 -1.28440670e+00 -1.31297673e+00\n",
      "  -7.07106781e-01 -7.07106781e-01]\n",
      " [-1.74885626e+00 -3.56360566e-01 -1.34127240e+00 -1.31297673e+00\n",
      "  -7.07106781e-01 -7.07106781e-01]\n",
      " [-1.14301691e+00  1.06445364e-01 -1.28440670e+00 -1.44444970e+00\n",
      "  -7.07106781e-01 -7.07106781e-01]\n",
      " [-5.37177559e-01  1.49486315e+00 -1.28440670e+00 -1.31297673e+00\n",
      "  -7.07106781e-01 -7.07106781e-01]\n",
      " [-1.26418478e+00  8.00654259e-01 -1.22754100e+00 -1.31297673e+00\n",
      "  -7.07106781e-01 -7.07106781e-01]\n",
      " [-1.26418478e+00 -1.24957601e-01 -1.34127240e+00 -1.44444970e+00\n",
      "  -7.07106781e-01 -7.07106781e-01]\n",
      " [-1.87002413e+00 -1.24957601e-01 -1.51186952e+00 -1.44444970e+00\n",
      "  -7.07106781e-01 -7.07106781e-01]\n",
      " [-5.25060772e-02  2.18907205e+00 -1.45500381e+00 -1.31297673e+00\n",
      "  -7.07106781e-01 -7.07106781e-01]\n",
      " [-1.73673948e-01  3.11468391e+00 -1.28440670e+00 -1.05003079e+00\n",
      "  -7.07106781e-01 -7.07106781e-01]\n",
      " [-5.37177559e-01  1.95766909e+00 -1.39813811e+00 -1.05003079e+00\n",
      "  -7.07106781e-01 -7.07106781e-01]\n",
      " [-9.00681170e-01  1.03205722e+00 -1.34127240e+00 -1.18150376e+00\n",
      "  -7.07106781e-01 -7.07106781e-01]\n",
      " [-1.73673948e-01  1.72626612e+00 -1.17067529e+00 -1.18150376e+00\n",
      "  -7.07106781e-01 -7.07106781e-01]\n",
      " [-9.00681170e-01  1.72626612e+00 -1.28440670e+00 -1.18150376e+00\n",
      "  -7.07106781e-01 -7.07106781e-01]\n",
      " [-5.37177559e-01  8.00654259e-01 -1.17067529e+00 -1.31297673e+00\n",
      "  -7.07106781e-01 -7.07106781e-01]\n",
      " [-9.00681170e-01  1.49486315e+00 -1.28440670e+00 -1.05003079e+00\n",
      "  -7.07106781e-01 -7.07106781e-01]\n",
      " [-1.50652052e+00  1.26346019e+00 -1.56873522e+00 -1.31297673e+00\n",
      "  -7.07106781e-01 -7.07106781e-01]\n",
      " [-9.00681170e-01  5.69251294e-01 -1.17067529e+00 -9.18557817e-01\n",
      "  -7.07106781e-01 -7.07106781e-01]\n",
      " [-1.26418478e+00  8.00654259e-01 -1.05694388e+00 -1.31297673e+00\n",
      "  -7.07106781e-01 -7.07106781e-01]\n",
      " [-1.02184904e+00 -1.24957601e-01 -1.22754100e+00 -1.31297673e+00\n",
      "  -7.07106781e-01 -7.07106781e-01]\n",
      " [-1.02184904e+00  8.00654259e-01 -1.22754100e+00 -1.05003079e+00\n",
      "  -7.07106781e-01 -7.07106781e-01]\n",
      " [-7.79513300e-01  1.03205722e+00 -1.28440670e+00 -1.31297673e+00\n",
      "  -7.07106781e-01 -7.07106781e-01]\n",
      " [-7.79513300e-01  8.00654259e-01 -1.34127240e+00 -1.31297673e+00\n",
      "  -7.07106781e-01 -7.07106781e-01]\n",
      " [-1.38535265e+00  3.37848329e-01 -1.22754100e+00 -1.31297673e+00\n",
      "  -7.07106781e-01 -7.07106781e-01]\n",
      " [-1.26418478e+00  1.06445364e-01 -1.22754100e+00 -1.31297673e+00\n",
      "  -7.07106781e-01 -7.07106781e-01]\n",
      " [-5.37177559e-01  8.00654259e-01 -1.28440670e+00 -1.05003079e+00\n",
      "  -7.07106781e-01 -7.07106781e-01]\n",
      " [-7.79513300e-01  2.42047502e+00 -1.28440670e+00 -1.44444970e+00\n",
      "  -7.07106781e-01 -7.07106781e-01]\n",
      " [-4.16009689e-01  2.65187798e+00 -1.34127240e+00 -1.31297673e+00\n",
      "  -7.07106781e-01 -7.07106781e-01]\n",
      " [-1.14301691e+00  1.06445364e-01 -1.28440670e+00 -1.44444970e+00\n",
      "  -7.07106781e-01 -7.07106781e-01]\n",
      " [-1.02184904e+00  3.37848329e-01 -1.45500381e+00 -1.31297673e+00\n",
      "  -7.07106781e-01 -7.07106781e-01]\n",
      " [-4.16009689e-01  1.03205722e+00 -1.39813811e+00 -1.31297673e+00\n",
      "  -7.07106781e-01 -7.07106781e-01]\n",
      " [-1.14301691e+00  1.06445364e-01 -1.28440670e+00 -1.44444970e+00\n",
      "  -7.07106781e-01 -7.07106781e-01]\n",
      " [-1.74885626e+00 -1.24957601e-01 -1.39813811e+00 -1.31297673e+00\n",
      "  -7.07106781e-01 -7.07106781e-01]\n",
      " [-9.00681170e-01  8.00654259e-01 -1.28440670e+00 -1.31297673e+00\n",
      "  -7.07106781e-01 -7.07106781e-01]\n",
      " [-1.02184904e+00  1.03205722e+00 -1.39813811e+00 -1.18150376e+00\n",
      "  -7.07106781e-01 -7.07106781e-01]\n",
      " [-1.62768839e+00 -1.74477836e+00 -1.39813811e+00 -1.18150376e+00\n",
      "  -7.07106781e-01 -7.07106781e-01]\n",
      " [-1.74885626e+00  3.37848329e-01 -1.39813811e+00 -1.31297673e+00\n",
      "  -7.07106781e-01 -7.07106781e-01]\n",
      " [-1.02184904e+00  1.03205722e+00 -1.22754100e+00 -7.87084847e-01\n",
      "  -7.07106781e-01 -7.07106781e-01]\n",
      " [-9.00681170e-01  1.72626612e+00 -1.05694388e+00 -1.05003079e+00\n",
      "  -7.07106781e-01 -7.07106781e-01]\n",
      " [-1.26418478e+00 -1.24957601e-01 -1.34127240e+00 -1.18150376e+00\n",
      "  -7.07106781e-01 -7.07106781e-01]\n",
      " [-9.00681170e-01  1.72626612e+00 -1.22754100e+00 -1.31297673e+00\n",
      "  -7.07106781e-01 -7.07106781e-01]\n",
      " [-1.50652052e+00  3.37848329e-01 -1.34127240e+00 -1.31297673e+00\n",
      "  -7.07106781e-01 -7.07106781e-01]\n",
      " [-6.58345429e-01  1.49486315e+00 -1.28440670e+00 -1.31297673e+00\n",
      "  -7.07106781e-01 -7.07106781e-01]\n",
      " [-1.02184904e+00  5.69251294e-01 -1.34127240e+00 -1.31297673e+00\n",
      "  -7.07106781e-01 -7.07106781e-01]\n",
      " [ 1.40150837e+00  3.37848329e-01  5.35295827e-01  2.64698913e-01\n",
      "   1.41421356e+00 -7.07106781e-01]\n",
      " [ 6.74501145e-01  3.37848329e-01  4.21564419e-01  3.96171883e-01\n",
      "   1.41421356e+00 -7.07106781e-01]\n",
      " [ 1.28034050e+00  1.06445364e-01  6.49027235e-01  3.96171883e-01\n",
      "   1.41421356e+00 -7.07106781e-01]\n",
      " [-4.16009689e-01 -1.74477836e+00  1.37235899e-01  1.33225943e-01\n",
      "   1.41421356e+00 -7.07106781e-01]\n",
      " [ 7.95669016e-01 -5.87763531e-01  4.78430123e-01  3.96171883e-01\n",
      "   1.41421356e+00 -7.07106781e-01]\n",
      " [-1.73673948e-01 -5.87763531e-01  4.21564419e-01  1.33225943e-01\n",
      "   1.41421356e+00 -7.07106781e-01]\n",
      " [ 5.53333275e-01  5.69251294e-01  5.35295827e-01  5.27644853e-01\n",
      "   1.41421356e+00 -7.07106781e-01]\n",
      " [-1.14301691e+00 -1.51337539e+00 -2.60824029e-01 -2.61192967e-01\n",
      "   1.41421356e+00 -7.07106781e-01]\n",
      " [ 9.16836886e-01 -3.56360566e-01  4.78430123e-01  1.33225943e-01\n",
      "   1.41421356e+00 -7.07106781e-01]\n",
      " [-7.79513300e-01 -8.19166497e-01  8.03701950e-02  2.64698913e-01\n",
      "   1.41421356e+00 -7.07106781e-01]\n",
      " [-1.02184904e+00 -2.43898725e+00 -1.47092621e-01 -2.61192967e-01\n",
      "   1.41421356e+00 -7.07106781e-01]\n",
      " [ 6.86617933e-02 -1.24957601e-01  2.50967307e-01  3.96171883e-01\n",
      "   1.41421356e+00 -7.07106781e-01]\n",
      " [ 1.89829664e-01 -1.97618132e+00  1.37235899e-01 -2.61192967e-01\n",
      "   1.41421356e+00 -7.07106781e-01]\n",
      " [ 3.10997534e-01 -3.56360566e-01  5.35295827e-01  2.64698913e-01\n",
      "   1.41421356e+00 -7.07106781e-01]\n",
      " [-2.94841818e-01 -3.56360566e-01 -9.02269170e-02  1.33225943e-01\n",
      "   1.41421356e+00 -7.07106781e-01]\n",
      " [ 1.03800476e+00  1.06445364e-01  3.64698715e-01  2.64698913e-01\n",
      "   1.41421356e+00 -7.07106781e-01]\n",
      " [-2.94841818e-01 -1.24957601e-01  4.21564419e-01  3.96171883e-01\n",
      "   1.41421356e+00 -7.07106781e-01]\n",
      " [-5.25060772e-02 -8.19166497e-01  1.94101603e-01 -2.61192967e-01\n",
      "   1.41421356e+00 -7.07106781e-01]\n",
      " [ 4.32165405e-01 -1.97618132e+00  4.21564419e-01  3.96171883e-01\n",
      "   1.41421356e+00 -7.07106781e-01]\n",
      " [-2.94841818e-01 -1.28197243e+00  8.03701950e-02 -1.29719997e-01\n",
      "   1.41421356e+00 -7.07106781e-01]\n",
      " [ 6.86617933e-02  3.37848329e-01  5.92161531e-01  7.90590793e-01\n",
      "   1.41421356e+00 -7.07106781e-01]\n",
      " [ 3.10997534e-01 -5.87763531e-01  1.37235899e-01  1.33225943e-01\n",
      "   1.41421356e+00 -7.07106781e-01]\n",
      " [ 5.53333275e-01 -1.28197243e+00  6.49027235e-01  3.96171883e-01\n",
      "   1.41421356e+00 -7.07106781e-01]\n",
      " [ 3.10997534e-01 -5.87763531e-01  5.35295827e-01  1.75297293e-03\n",
      "   1.41421356e+00 -7.07106781e-01]\n",
      " [ 6.74501145e-01 -3.56360566e-01  3.07833011e-01  1.33225943e-01\n",
      "   1.41421356e+00 -7.07106781e-01]\n",
      " [ 9.16836886e-01 -1.24957601e-01  3.64698715e-01  2.64698913e-01\n",
      "   1.41421356e+00 -7.07106781e-01]\n",
      " [ 1.15917263e+00 -5.87763531e-01  5.92161531e-01  2.64698913e-01\n",
      "   1.41421356e+00 -7.07106781e-01]\n",
      " [ 1.03800476e+00 -1.24957601e-01  7.05892939e-01  6.59117823e-01\n",
      "   1.41421356e+00 -7.07106781e-01]\n",
      " [ 1.89829664e-01 -3.56360566e-01  4.21564419e-01  3.96171883e-01\n",
      "   1.41421356e+00 -7.07106781e-01]\n",
      " [-1.73673948e-01 -1.05056946e+00 -1.47092621e-01 -2.61192967e-01\n",
      "   1.41421356e+00 -7.07106781e-01]\n",
      " [-4.16009689e-01 -1.51337539e+00  2.35044910e-02 -1.29719997e-01\n",
      "   1.41421356e+00 -7.07106781e-01]\n",
      " [-4.16009689e-01 -1.51337539e+00 -3.33612130e-02 -2.61192967e-01\n",
      "   1.41421356e+00 -7.07106781e-01]\n",
      " [-5.25060772e-02 -8.19166497e-01  8.03701950e-02  1.75297293e-03\n",
      "   1.41421356e+00 -7.07106781e-01]\n",
      " [ 1.89829664e-01 -8.19166497e-01  7.62758643e-01  5.27644853e-01\n",
      "   1.41421356e+00 -7.07106781e-01]\n",
      " [-5.37177559e-01 -1.24957601e-01  4.21564419e-01  3.96171883e-01\n",
      "   1.41421356e+00 -7.07106781e-01]\n",
      " [ 1.89829664e-01  8.00654259e-01  4.21564419e-01  5.27644853e-01\n",
      "   1.41421356e+00 -7.07106781e-01]\n",
      " [ 1.03800476e+00  1.06445364e-01  5.35295827e-01  3.96171883e-01\n",
      "   1.41421356e+00 -7.07106781e-01]\n",
      " [ 5.53333275e-01 -1.74477836e+00  3.64698715e-01  1.33225943e-01\n",
      "   1.41421356e+00 -7.07106781e-01]\n",
      " [-2.94841818e-01 -1.24957601e-01  1.94101603e-01  1.33225943e-01\n",
      "   1.41421356e+00 -7.07106781e-01]\n",
      " [-4.16009689e-01 -1.28197243e+00  1.37235899e-01  1.33225943e-01\n",
      "   1.41421356e+00 -7.07106781e-01]\n",
      " [-4.16009689e-01 -1.05056946e+00  3.64698715e-01  1.75297293e-03\n",
      "   1.41421356e+00 -7.07106781e-01]\n",
      " [ 3.10997534e-01 -1.24957601e-01  4.78430123e-01  2.64698913e-01\n",
      "   1.41421356e+00 -7.07106781e-01]\n",
      " [-5.25060772e-02 -1.05056946e+00  1.37235899e-01  1.75297293e-03\n",
      "   1.41421356e+00 -7.07106781e-01]\n",
      " [-1.02184904e+00 -1.74477836e+00 -2.60824029e-01 -2.61192967e-01\n",
      "   1.41421356e+00 -7.07106781e-01]\n",
      " [-2.94841818e-01 -8.19166497e-01  2.50967307e-01  1.33225943e-01\n",
      "   1.41421356e+00 -7.07106781e-01]\n",
      " [-1.73673948e-01 -1.24957601e-01  2.50967307e-01  1.75297293e-03\n",
      "   1.41421356e+00 -7.07106781e-01]\n",
      " [-1.73673948e-01 -3.56360566e-01  2.50967307e-01  1.33225943e-01\n",
      "   1.41421356e+00 -7.07106781e-01]\n",
      " [ 4.32165405e-01 -3.56360566e-01  3.07833011e-01  1.33225943e-01\n",
      "   1.41421356e+00 -7.07106781e-01]\n",
      " [-9.00681170e-01 -1.28197243e+00 -4.31421141e-01 -1.29719997e-01\n",
      "   1.41421356e+00 -7.07106781e-01]\n",
      " [-1.73673948e-01 -5.87763531e-01  1.94101603e-01  1.33225943e-01\n",
      "   1.41421356e+00 -7.07106781e-01]\n",
      " [ 5.53333275e-01  5.69251294e-01  1.27454998e+00  1.71090158e+00\n",
      "  -7.07106781e-01  1.41421356e+00]\n",
      " [-5.25060772e-02 -8.19166497e-01  7.62758643e-01  9.22063763e-01\n",
      "  -7.07106781e-01  1.41421356e+00]\n",
      " [ 1.52267624e+00 -1.24957601e-01  1.21768427e+00  1.18500970e+00\n",
      "  -7.07106781e-01  1.41421356e+00]\n",
      " [ 5.53333275e-01 -3.56360566e-01  1.04708716e+00  7.90590793e-01\n",
      "  -7.07106781e-01  1.41421356e+00]\n",
      " [ 7.95669016e-01 -1.24957601e-01  1.16081857e+00  1.31648267e+00\n",
      "  -7.07106781e-01  1.41421356e+00]\n",
      " [ 2.12851559e+00 -1.24957601e-01  1.61574420e+00  1.18500970e+00\n",
      "  -7.07106781e-01  1.41421356e+00]\n",
      " [-1.14301691e+00 -1.28197243e+00  4.21564419e-01  6.59117823e-01\n",
      "  -7.07106781e-01  1.41421356e+00]\n",
      " [ 1.76501198e+00 -3.56360566e-01  1.44514709e+00  7.90590793e-01\n",
      "  -7.07106781e-01  1.41421356e+00]\n",
      " [ 1.03800476e+00 -1.28197243e+00  1.16081857e+00  7.90590793e-01\n",
      "  -7.07106781e-01  1.41421356e+00]\n",
      " [ 1.64384411e+00  1.26346019e+00  1.33141568e+00  1.71090158e+00\n",
      "  -7.07106781e-01  1.41421356e+00]\n",
      " [ 7.95669016e-01  3.37848329e-01  7.62758643e-01  1.05353673e+00\n",
      "  -7.07106781e-01  1.41421356e+00]\n",
      " [ 6.74501145e-01 -8.19166497e-01  8.76490051e-01  9.22063763e-01\n",
      "  -7.07106781e-01  1.41421356e+00]\n",
      " [ 1.15917263e+00 -1.24957601e-01  9.90221459e-01  1.18500970e+00\n",
      "  -7.07106781e-01  1.41421356e+00]\n",
      " [-1.73673948e-01 -1.28197243e+00  7.05892939e-01  1.05353673e+00\n",
      "  -7.07106781e-01  1.41421356e+00]\n",
      " [-5.25060772e-02 -5.87763531e-01  7.62758643e-01  1.57942861e+00\n",
      "  -7.07106781e-01  1.41421356e+00]\n",
      " [ 6.74501145e-01  3.37848329e-01  8.76490051e-01  1.44795564e+00\n",
      "  -7.07106781e-01  1.41421356e+00]\n",
      " [ 7.95669016e-01 -1.24957601e-01  9.90221459e-01  7.90590793e-01\n",
      "  -7.07106781e-01  1.41421356e+00]\n",
      " [ 2.24968346e+00  1.72626612e+00  1.67260991e+00  1.31648267e+00\n",
      "  -7.07106781e-01  1.41421356e+00]\n",
      " [ 2.24968346e+00 -1.05056946e+00  1.78634131e+00  1.44795564e+00\n",
      "  -7.07106781e-01  1.41421356e+00]\n",
      " [ 1.89829664e-01 -1.97618132e+00  7.05892939e-01  3.96171883e-01\n",
      "  -7.07106781e-01  1.41421356e+00]\n",
      " [ 1.28034050e+00  3.37848329e-01  1.10395287e+00  1.44795564e+00\n",
      "  -7.07106781e-01  1.41421356e+00]\n",
      " [-2.94841818e-01 -5.87763531e-01  6.49027235e-01  1.05353673e+00\n",
      "  -7.07106781e-01  1.41421356e+00]\n",
      " [ 2.24968346e+00 -5.87763531e-01  1.67260991e+00  1.05353673e+00\n",
      "  -7.07106781e-01  1.41421356e+00]\n",
      " [ 5.53333275e-01 -8.19166497e-01  6.49027235e-01  7.90590793e-01\n",
      "  -7.07106781e-01  1.41421356e+00]\n",
      " [ 1.03800476e+00  5.69251294e-01  1.10395287e+00  1.18500970e+00\n",
      "  -7.07106781e-01  1.41421356e+00]\n",
      " [ 1.64384411e+00  3.37848329e-01  1.27454998e+00  7.90590793e-01\n",
      "  -7.07106781e-01  1.41421356e+00]\n",
      " [ 4.32165405e-01 -5.87763531e-01  5.92161531e-01  7.90590793e-01\n",
      "  -7.07106781e-01  1.41421356e+00]\n",
      " [ 3.10997534e-01 -1.24957601e-01  6.49027235e-01  7.90590793e-01\n",
      "  -7.07106781e-01  1.41421356e+00]\n",
      " [ 6.74501145e-01 -5.87763531e-01  1.04708716e+00  1.18500970e+00\n",
      "  -7.07106781e-01  1.41421356e+00]\n",
      " [ 1.64384411e+00 -1.24957601e-01  1.16081857e+00  5.27644853e-01\n",
      "  -7.07106781e-01  1.41421356e+00]\n",
      " [ 1.88617985e+00 -5.87763531e-01  1.33141568e+00  9.22063763e-01\n",
      "  -7.07106781e-01  1.41421356e+00]\n",
      " [ 2.49201920e+00  1.72626612e+00  1.50201279e+00  1.05353673e+00\n",
      "  -7.07106781e-01  1.41421356e+00]\n",
      " [ 6.74501145e-01 -5.87763531e-01  1.04708716e+00  1.31648267e+00\n",
      "  -7.07106781e-01  1.41421356e+00]\n",
      " [ 5.53333275e-01 -5.87763531e-01  7.62758643e-01  3.96171883e-01\n",
      "  -7.07106781e-01  1.41421356e+00]\n",
      " [ 3.10997534e-01 -1.05056946e+00  1.04708716e+00  2.64698913e-01\n",
      "  -7.07106781e-01  1.41421356e+00]\n",
      " [ 2.24968346e+00 -1.24957601e-01  1.33141568e+00  1.44795564e+00\n",
      "  -7.07106781e-01  1.41421356e+00]\n",
      " [ 5.53333275e-01  8.00654259e-01  1.04708716e+00  1.57942861e+00\n",
      "  -7.07106781e-01  1.41421356e+00]\n",
      " [ 6.74501145e-01  1.06445364e-01  9.90221459e-01  7.90590793e-01\n",
      "  -7.07106781e-01  1.41421356e+00]\n",
      " [ 1.89829664e-01 -1.24957601e-01  5.92161531e-01  7.90590793e-01\n",
      "  -7.07106781e-01  1.41421356e+00]\n",
      " [ 1.28034050e+00  1.06445364e-01  9.33355755e-01  1.18500970e+00\n",
      "  -7.07106781e-01  1.41421356e+00]\n",
      " [ 1.03800476e+00  1.06445364e-01  1.04708716e+00  1.57942861e+00\n",
      "  -7.07106781e-01  1.41421356e+00]\n",
      " [ 1.28034050e+00  1.06445364e-01  7.62758643e-01  1.44795564e+00\n",
      "  -7.07106781e-01  1.41421356e+00]\n",
      " [-5.25060772e-02 -8.19166497e-01  7.62758643e-01  9.22063763e-01\n",
      "  -7.07106781e-01  1.41421356e+00]\n",
      " [ 1.15917263e+00  3.37848329e-01  1.21768427e+00  1.44795564e+00\n",
      "  -7.07106781e-01  1.41421356e+00]\n",
      " [ 1.03800476e+00  5.69251294e-01  1.10395287e+00  1.71090158e+00\n",
      "  -7.07106781e-01  1.41421356e+00]\n",
      " [ 1.03800476e+00 -1.24957601e-01  8.19624347e-01  1.44795564e+00\n",
      "  -7.07106781e-01  1.41421356e+00]\n",
      " [ 5.53333275e-01 -1.28197243e+00  7.05892939e-01  9.22063763e-01\n",
      "  -7.07106781e-01  1.41421356e+00]\n",
      " [ 7.95669016e-01 -1.24957601e-01  8.19624347e-01  1.05353673e+00\n",
      "  -7.07106781e-01  1.41421356e+00]\n",
      " [ 4.32165405e-01  8.00654259e-01  9.33355755e-01  1.44795564e+00\n",
      "  -7.07106781e-01  1.41421356e+00]\n",
      " [ 6.86617933e-02 -1.24957601e-01  7.62758643e-01  7.90590793e-01\n",
      "  -7.07106781e-01  1.41421356e+00]]\n"
     ]
    }
   ],
   "source": [
    "#feature scaling \n",
    "from sklearn.preprocessing import StandardScaler \n",
    "#Standardize the features (mean = 0 , variance = 1 )\n",
    "scaler = StandardScaler()\n",
    "x = df_encoded.drop(columns=['Id'])\n",
    "x_scaled = scaler.fit_transform(x)\n",
    "# print(x_scaled)--> This statement is not there in given , but added to show output \n",
    "\n",
    "                    "
   ]
  },
  {
   "cell_type": "code",
   "execution_count": 14,
   "metadata": {},
   "outputs": [
    {
     "name": "stdout",
     "output_type": "stream",
     "text": [
      "[[-2.35767838 -0.89641084]\n",
      " [-2.22789488 -0.26770759]\n",
      " [-2.46954649 -0.50532682]\n",
      " [-2.41817185 -0.36475525]\n",
      " [-2.46358377 -1.01254228]\n",
      " [-2.15563057 -1.38660098]\n",
      " [-2.52620851 -0.73594078]\n",
      " [-2.33614458 -0.76119561]\n",
      " [-2.46462672 -0.11039384]\n",
      " [-2.31505495 -0.38850271]\n",
      " [-2.2541173  -1.15763597]\n",
      " [-2.42051616 -0.74211182]\n",
      " [-2.3532028  -0.26400018]\n",
      " [-2.72825632 -0.24575063]\n",
      " [-2.26161251 -1.57014537]\n",
      " [-2.28798953 -2.03288064]\n",
      " [-2.27499389 -1.40802637]\n",
      " [-2.28947666 -0.89325453]\n",
      " [-2.00371449 -1.28735328]\n",
      " [-2.40603339 -1.25688367]\n",
      " [-2.04803809 -0.77793778]\n",
      " [-2.28903248 -1.1307322 ]\n",
      " [-2.81137192 -1.0065128 ]\n",
      " [-1.96595237 -0.62488254]\n",
      " [-2.33099367 -0.72604278]\n",
      " [-2.11110701 -0.26385861]\n",
      " [-2.16990031 -0.74952664]\n",
      " [-2.27073135 -0.89791821]\n",
      " [-2.25177299 -0.78027939]\n",
      " [-2.380024   -0.48925778]\n",
      " [-2.27411861 -0.37312634]\n",
      " [-1.97131631 -0.78233786]\n",
      " [-2.63172817 -1.63904549]\n",
      " [-2.47084784 -1.78483184]\n",
      " [-2.31505495 -0.38850271]\n",
      " [-2.3280687  -0.53127433]\n",
      " [-2.15909439 -0.92922205]\n",
      " [-2.31505495 -0.38850271]\n",
      " [-2.54326674 -0.23874535]\n",
      " [-2.27903837 -0.76805933]\n",
      " [-2.3764237  -0.89174716]\n",
      " [-2.07636452  0.61851338]\n",
      " [-2.64086511 -0.48473567]\n",
      " [-2.08229605 -0.86620919]\n",
      " [-2.21846835 -1.23230197]\n",
      " [-2.21679936 -0.25768756]\n",
      " [-2.44439428 -1.25468363]\n",
      " [-2.49681186 -0.49310676]\n",
      " [-2.31122351 -1.15077225]\n",
      " [-2.31718622 -0.64355679]\n",
      " [ 0.74948257  1.12462348]\n",
      " [ 0.41536539  1.1582494 ]\n",
      " [ 0.86905892  1.26835136]\n",
      " [ 0.0549946   2.29388496]\n",
      " [ 0.69750916  1.64872268]\n",
      " [ 0.07441524  1.69196345]\n",
      " [ 0.43734338  1.05598696]\n",
      " [-0.74993279  2.16510875]\n",
      " [ 0.56941274  1.51255118]\n",
      " [-0.27315987  1.82029543]\n",
      " [-0.43794819  2.66093837]\n",
      " [ 0.13791024  1.42248927]\n",
      " [ 0.18471966  2.37309261]\n",
      " [ 0.38192426  1.55538242]\n",
      " [-0.30005762  1.52762488]\n",
      " [ 0.53744064  1.25214075]\n",
      " [ 0.0561141   1.45914946]\n",
      " [-0.14364785  1.77720058]\n",
      " [ 0.78914481  2.40192846]\n",
      " [-0.15174183  2.02936195]\n",
      " [ 0.423962    1.21810595]\n",
      " [ 0.15363592  1.63772684]\n",
      " [ 0.81921679  2.04750464]\n",
      " [ 0.29432     1.67206497]\n",
      " [ 0.36567784  1.51020957]\n",
      " [ 0.52913362  1.38199963]\n",
      " [ 0.86030772  1.63568791]\n",
      " [ 0.96988996  1.41674292]\n",
      " [ 0.33333811  1.55468975]\n",
      " [-0.33099985  1.87492137]\n",
      " [-0.18988968  2.15386449]\n",
      " [-0.28793223  2.14535183]\n",
      " [-0.06692607  1.7728005 ]\n",
      " [ 0.67818318  1.83597448]\n",
      " [-0.05809831  1.4728769 ]\n",
      " [ 0.15754391  0.94287025]\n",
      " [ 0.69516485  1.2713661 ]\n",
      " [ 0.63120757  2.26040061]\n",
      " [-0.19965265  1.43141145]\n",
      " [-0.04260377  2.04789464]\n",
      " [-0.04024136  1.94316856]\n",
      " [ 0.30328425  1.42703091]\n",
      " [ 0.01171395  1.90115201]\n",
      " [-0.6440274   2.28124019]\n",
      " [-0.02341427  1.80575329]\n",
      " [-0.18090734  1.42674778]\n",
      " [-0.06390643  1.55289925]\n",
      " [ 0.25146543  1.52393701]\n",
      " [-0.70584033  2.01547341]\n",
      " [-0.04494808  1.67053806]\n",
      " [ 2.28570775 -1.25858234]\n",
      " [ 1.61519404 -0.55343776]\n",
      " [ 2.58630725 -0.96248818]\n",
      " [ 1.88412913 -0.81012125]\n",
      " [ 2.2820309  -0.92350591]\n",
      " [ 3.08072409 -0.95931234]\n",
      " [ 0.88338813 -0.28412468]\n",
      " [ 2.664077   -0.84126399]\n",
      " [ 2.36743235 -0.33488277]\n",
      " [ 2.68310689 -1.68398494]\n",
      " [ 1.83914329 -1.21330329]\n",
      " [ 2.01751294 -0.58390737]\n",
      " [ 2.29562531 -0.96332242]\n",
      " [ 1.69404709 -0.30278376]\n",
      " [ 1.90740346 -0.66065138]\n",
      " [ 2.0463239  -1.18625795]\n",
      " [ 1.91970153 -0.95220019]\n",
      " [ 2.84547937 -1.9416247 ]\n",
      " [ 3.55895296 -0.45181374]\n",
      " [ 1.67075467  0.02982903]\n",
      " [ 2.45121825 -1.19915115]\n",
      " [ 1.46070251 -0.67026188]\n",
      " [ 3.19706777 -0.71798569]\n",
      " [ 1.7728417  -0.60162536]\n",
      " [ 2.15180321 -1.31473149]\n",
      " [ 2.37105076 -1.2194548 ]\n",
      " [ 1.63709548 -0.72311315]\n",
      " [ 1.51223173 -0.95688341]\n",
      " [ 2.19463968 -0.68452088]\n",
      " [ 2.27256403 -0.99048979]\n",
      " [ 2.77850245 -0.73268893]\n",
      " [ 2.73376586 -1.97773379]\n",
      " [ 2.2628414  -0.68136457]\n",
      " [ 1.57911901 -0.72337675]\n",
      " [ 1.64350739 -0.44003356]\n",
      " [ 3.12502959 -0.98664518]\n",
      " [ 2.04934353 -1.40615921]\n",
      " [ 1.81379614 -1.06833164]\n",
      " [ 1.4252847  -0.95537604]\n",
      " [ 2.27409151 -1.09853765]\n",
      " [ 2.42416591 -1.06462859]\n",
      " [ 2.32097246 -1.10829407]\n",
      " [ 1.61519404 -0.55343776]\n",
      " [ 2.4537937  -1.18157474]\n",
      " [ 2.42461009 -1.30210626]\n",
      " [ 2.28540006 -0.96621513]\n",
      " [ 1.96848261 -0.34712238]\n",
      " [ 1.96658248 -0.96195662]\n",
      " [ 1.86435395 -1.41316449]\n",
      " [ 1.45770098 -0.93244328]]\n"
     ]
    }
   ],
   "source": [
    "from sklearn.decomposition import PCA \n",
    "#Apply PCA to reduce to 2 components \n",
    "pca = PCA(n_components = 2)\n",
    "x_pca = pca.fit_transform(x_scaled)\n",
    "#print(x_pca)--> Not there , added for output \n"
   ]
  },
  {
   "cell_type": "code",
   "execution_count": 15,
   "metadata": {},
   "outputs": [
    {
     "name": "stdout",
     "output_type": "stream",
     "text": [
      "PCA DataFrame head :\n",
      "    Principal Component 1  Principal Component 2      Species\n",
      "0              -2.357678              -0.896411  Iris-setosa\n",
      "1              -2.227895              -0.267708  Iris-setosa\n",
      "2              -2.469546              -0.505327  Iris-setosa\n",
      "3              -2.418172              -0.364755  Iris-setosa\n",
      "4              -2.463584              -1.012542  Iris-setosa\n"
     ]
    }
   ],
   "source": [
    "#create a data frame with PCA results \n",
    "\n",
    "df_pca = pd.DataFrame(data=x_pca,columns=['Principal Component 1','Principal Component 2'])\n",
    "df_pca['Species'] = df['Species']\n",
    "print(\"PCA DataFrame head :\\n\" , df_pca.head())"
   ]
  },
  {
   "cell_type": "code",
   "execution_count": 25,
   "metadata": {},
   "outputs": [
    {
     "data": {
      "image/png": "[encoded data removed]",
      "text/plain": [
       "<Figure size 640x480 with 1 Axes>"
      ]
     },
     "metadata": {},
     "output_type": "display_data"
    }
   ],
   "source": [
    "#ScatterPlot of original old data \n",
    "\n",
    "import seaborn as sns \n",
    "import matplotlib.pyplot as plt \n",
    "\n",
    "sns.scatterplot(x='SepalLengthCm',y='SepalWidthCm',hue='Species',data=df)\n",
    "plt.xlabel('SepalLengthCm')\n",
    "plt.ylabel('SepalWidthCm')\n",
    "plt.grid(True)\n",
    "plt.show()\n",
    "    "
   ]
  },
  {
   "cell_type": "code",
   "execution_count": 24,
   "metadata": {},
   "outputs": [
    {
     "data": {
      "image/png": "[encoded data removed]",
      "text/plain": [
       "<Figure size 640x480 with 1 Axes>"
      ]
     },
     "metadata": {},
     "output_type": "display_data"
    }
   ],
   "source": [
    "#scatter plot of PCA reduced data \n",
    "\n",
    "sns.scatterplot(x='Principal Component 1',y='Principal Component 2',hue='Species',data=df_pca)\n",
    "plt.xlabel('Principal Component 1')\n",
    "plt.ylabel('Principal Component 2')\n",
    "plt.grid(True)\n",
    "plt.show()\n"
   ]
  },
  {
   "cell_type": "code",
   "execution_count": 26,
   "metadata": {},
   "outputs": [
    {
     "name": "stdout",
     "output_type": "stream",
     "text": [
      "Data Frame Head :\n",
      "    mean radius  mean texture  mean perimeter  mean area  mean smoothness  \\\n",
      "0        17.99         10.38          122.80     1001.0          0.11840   \n",
      "1        20.57         17.77          132.90     1326.0          0.08474   \n",
      "2        19.69         21.25          130.00     1203.0          0.10960   \n",
      "3        11.42         20.38           77.58      386.1          0.14250   \n",
      "4        20.29         14.34          135.10     1297.0          0.10030   \n",
      "\n",
      "   mean compactness  mean concavity  mean concave points  mean symmetry  \\\n",
      "0           0.27760          0.3001              0.14710         0.2419   \n",
      "1           0.07864          0.0869              0.07017         0.1812   \n",
      "2           0.15990          0.1974              0.12790         0.2069   \n",
      "3           0.28390          0.2414              0.10520         0.2597   \n",
      "4           0.13280          0.1980              0.10430         0.1809   \n",
      "\n",
      "   mean fractal dimension  ...  worst texture  worst perimeter  worst area  \\\n",
      "0                 0.07871  ...          17.33           184.60      2019.0   \n",
      "1                 0.05667  ...          23.41           158.80      1956.0   \n",
      "2                 0.05999  ...          25.53           152.50      1709.0   \n",
      "3                 0.09744  ...          26.50            98.87       567.7   \n",
      "4                 0.05883  ...          16.67           152.20      1575.0   \n",
      "\n",
      "   worst smoothness  worst compactness  worst concavity  worst concave points  \\\n",
      "0            0.1622             0.6656           0.7119                0.2654   \n",
      "1            0.1238             0.1866           0.2416                0.1860   \n",
      "2            0.1444             0.4245           0.4504                0.2430   \n",
      "3            0.2098             0.8663           0.6869                0.2575   \n",
      "4            0.1374             0.2050           0.4000                0.1625   \n",
      "\n",
      "   worst symmetry  worst fractal dimension  Target  \n",
      "0          0.4601                  0.11890       0  \n",
      "1          0.2750                  0.08902       0  \n",
      "2          0.3613                  0.08758       0  \n",
      "3          0.6638                  0.17300       0  \n",
      "4          0.2364                  0.07678       0  \n",
      "\n",
      "[5 rows x 31 columns]\n",
      "<class 'pandas.core.frame.DataFrame'>\n",
      "RangeIndex: 569 entries, 0 to 568\n",
      "Data columns (total 31 columns):\n",
      " #   Column                   Non-Null Count  Dtype  \n",
      "---  ------                   --------------  -----  \n",
      " 0   mean radius              569 non-null    float64\n",
      " 1   mean texture             569 non-null    float64\n",
      " 2   mean perimeter           569 non-null    float64\n",
      " 3   mean area                569 non-null    float64\n",
      " 4   mean smoothness          569 non-null    float64\n",
      " 5   mean compactness         569 non-null    float64\n",
      " 6   mean concavity           569 non-null    float64\n",
      " 7   mean concave points      569 non-null    float64\n",
      " 8   mean symmetry            569 non-null    float64\n",
      " 9   mean fractal dimension   569 non-null    float64\n",
      " 10  radius error             569 non-null    float64\n",
      " 11  texture error            569 non-null    float64\n",
      " 12  perimeter error          569 non-null    float64\n",
      " 13  area error               569 non-null    float64\n",
      " 14  smoothness error         569 non-null    float64\n",
      " 15  compactness error        569 non-null    float64\n",
      " 16  concavity error          569 non-null    float64\n",
      " 17  concave points error     569 non-null    float64\n",
      " 18  symmetry error           569 non-null    float64\n",
      " 19  fractal dimension error  569 non-null    float64\n",
      " 20  worst radius             569 non-null    float64\n",
      " 21  worst texture            569 non-null    float64\n",
      " 22  worst perimeter          569 non-null    float64\n",
      " 23  worst area               569 non-null    float64\n",
      " 24  worst smoothness         569 non-null    float64\n",
      " 25  worst compactness        569 non-null    float64\n",
      " 26  worst concavity          569 non-null    float64\n",
      " 27  worst concave points     569 non-null    float64\n",
      " 28  worst symmetry           569 non-null    float64\n",
      " 29  worst fractal dimension  569 non-null    float64\n",
      " 30  Target                   569 non-null    int32  \n",
      "dtypes: float64(30), int32(1)\n",
      "memory usage: 135.7 KB\n",
      "Data Frame Info: \n",
      " None\n"
     ]
    }
   ],
   "source": [
    "## nRecursive Feature Elimkination (RFE)\n",
    "\n",
    "#Load Dtaset \n",
    "import pandas as pd \n",
    "from sklearn.datasets import load_breast_cancer\n",
    "data = load_breast_cancer()\n",
    "df = pd.DataFrame(data.data , columns=data.feature_names)\n",
    "df['Target'] = data.target\n",
    "print(\"Data Frame Head :\\n\",df.head())\n",
    "print(\"Data Frame Info: \\n\",df.info())\n"
   ]
  },
  {
   "cell_type": "code",
   "execution_count": 27,
   "metadata": {},
   "outputs": [
    {
     "name": "stdout",
     "output_type": "stream",
     "text": [
      "Missing Values:\n",
      " mean radius                0\n",
      "mean texture               0\n",
      "mean perimeter             0\n",
      "mean area                  0\n",
      "mean smoothness            0\n",
      "mean compactness           0\n",
      "mean concavity             0\n",
      "mean concave points        0\n",
      "mean symmetry              0\n",
      "mean fractal dimension     0\n",
      "radius error               0\n",
      "texture error              0\n",
      "perimeter error            0\n",
      "area error                 0\n",
      "smoothness error           0\n",
      "compactness error          0\n",
      "concavity error            0\n",
      "concave points error       0\n",
      "symmetry error             0\n",
      "fractal dimension error    0\n",
      "worst radius               0\n",
      "worst texture              0\n",
      "worst perimeter            0\n",
      "worst area                 0\n",
      "worst smoothness           0\n",
      "worst compactness          0\n",
      "worst concavity            0\n",
      "worst concave points       0\n",
      "worst symmetry             0\n",
      "worst fractal dimension    0\n",
      "Target                     0\n",
      "dtype: int64\n"
     ]
    }
   ],
   "source": [
    "#checking for missing values \n",
    "print(\"Missing Values:\\n\" , df.isnull().sum())\n",
    "#For this dataset , there is no missing values \n"
   ]
  },
  {
   "cell_type": "code",
   "execution_count": 33,
   "metadata": {},
   "outputs": [
    {
     "name": "stdout",
     "output_type": "stream",
     "text": [
      "[[ 1.09706398 -2.07333501  1.26993369 ...  2.29607613  2.75062224\n",
      "   1.93701461]\n",
      " [ 1.82982061 -0.35363241  1.68595471 ...  1.0870843  -0.24388967\n",
      "   0.28118999]\n",
      " [ 1.57988811  0.45618695  1.56650313 ...  1.95500035  1.152255\n",
      "   0.20139121]\n",
      " ...\n",
      " [ 0.70228425  2.0455738   0.67267578 ...  0.41406869 -1.10454895\n",
      "  -0.31840916]\n",
      " [ 1.83834103  2.33645719  1.98252415 ...  2.28998549  1.91908301\n",
      "   2.21963528]\n",
      " [-1.80840125  1.22179204 -1.81438851 ... -1.74506282 -0.04813821\n",
      "  -0.75120669]]\n"
     ]
    }
   ],
   "source": [
    "#feature scaling \n",
    "from sklearn.preprocessing import StandardScaler \n",
    "#Standardize the feature (mean = 0  , variance = 1)\n",
    "x = df.drop(columns=['Target'])\n",
    "y = df['Target']\n",
    "scaler = StandardScaler()\n",
    "x_scaled = scaler.fit_transform(x)\n",
    "print(x_scaled)"
   ]
  },
  {
   "cell_type": "code",
   "execution_count": 35,
   "metadata": {},
   "outputs": [],
   "source": [
    "#create a logistic regression estimator \n",
    "from sklearn.feature_selection import RFE \n",
    "from sklearn.linear_model import LogisticRegression \n",
    "\n",
    "estimator = LogisticRegression(max_iter = 1000 )\n",
    "selector = RFE(estimator,n_features_to_select = 10 , step = 1)\n",
    "selector = selector.fit(x_scaled,y)\n"
   ]
  },
  {
   "cell_type": "code",
   "execution_count": 36,
   "metadata": {},
   "outputs": [
    {
     "name": "stdout",
     "output_type": "stream",
     "text": [
      "selected features: Index(['mean concave points', 'radius error', 'area error',\n",
      "       'compactness error', 'worst radius', 'worst texture', 'worst perimeter',\n",
      "       'worst area', 'worst concavity', 'worst concave points'],\n",
      "      dtype='object')\n"
     ]
    }
   ],
   "source": [
    "#Get the selected feature \n",
    "selected_features = x.columns[selector.support_]\n",
    "print(\"selected features:\",selected_features)"
   ]
  },
  {
   "cell_type": "code",
   "execution_count": 42,
   "metadata": {},
   "outputs": [
    {
     "name": "stdout",
     "output_type": "stream",
     "text": [
      "RFE Data Frame Head \n",
      "    mean concave points  radius error  area error  compactness error  \\\n",
      "0             2.532475      2.489734    2.487578           1.316862   \n",
      "1             0.548144      0.499255    0.742402          -0.692926   \n",
      "2             2.037231      1.228676    1.181336           0.814974   \n",
      "3             1.451707      0.326373   -0.288378           2.744280   \n",
      "4             1.428493      1.270543    1.190357          -0.048520   \n",
      "\n",
      "   worst radius  worst texture  worst perimeter  worst area  worst concavity  \\\n",
      "0      1.886690      -1.359293         2.303601    2.001237         2.109526   \n",
      "1      1.805927      -0.369203         1.535126    1.890489        -0.146749   \n",
      "2      1.511870      -0.023974         1.347475    1.456285         0.854974   \n",
      "3     -0.281464       0.133984        -0.249939   -0.550021         1.989588   \n",
      "4      1.298575      -1.466770         1.338539    1.220724         0.613179   \n",
      "\n",
      "   worst concave points  Target  \n",
      "0              2.296076       0  \n",
      "1              1.087084       0  \n",
      "2              1.955000       0  \n",
      "3              2.175786       0  \n",
      "4              0.729259       0  \n"
     ]
    }
   ],
   "source": [
    "#create dataframe with only selected features \n",
    "x_selected = pd.DataFrame(selector.transform(x_scaled),columns=selected_features)\n",
    "df_selected = pd.concat([x_selected , df['Target'].reset_index(drop=True)],axis=1)\n",
    "print(\"RFE Data Frame Head \\n\",df_selected.head())"
   ]
  },
  {
   "cell_type": "code",
   "execution_count": 46,
   "metadata": {},
   "outputs": [
    {
     "name": "stdout",
     "output_type": "stream",
     "text": [
      "0.9707602339181286\n",
      "              precision    recall  f1-score   support\n",
      "\n",
      "           0       0.92      1.00      0.96        54\n",
      "           1       1.00      0.96      0.98       117\n",
      "\n",
      "    accuracy                           0.97       171\n",
      "   macro avg       0.96      0.98      0.97       171\n",
      "weighted avg       0.97      0.97      0.97       171\n",
      "\n"
     ]
    }
   ],
   "source": [
    "from sklearn.model_selection import train_test_split\n",
    "from sklearn.metrics import accuracy_score,classification_report\n",
    "\n",
    "x_train,x_test,y_train,y_test = train_test_split(x_selected,y,test_size = 0.3 , random_state = 4)\n",
    "model = LogisticRegression(max_iter=1000)\n",
    "model.fit(x_train,y_train)\n",
    "y_pred = model.predict(x_test)\n",
    "print(accuracy_score(y_test,y_pred))\n",
    "print(classification_report(y_test,y_pred))\n"
   ]
  },
  {
   "cell_type": "code",
   "execution_count": 2,
   "metadata": {},
   "outputs": [
    {
     "name": "stdout",
     "output_type": "stream",
     "text": [
      "   Hours  Scores\n",
      "0    2.5      21\n",
      "1    5.1      47\n",
      "2    3.2      27\n",
      "3    8.5      75\n",
      "4    3.5      30\n"
     ]
    }
   ],
   "source": [
    "# Data Science Lab - 3 \n",
    "# Regression model to predict score of student , with constraint student_score.csv\n",
    "\n",
    "import pandas as pd \n",
    "import matplotlib.pyplot as plt \n",
    "import numpy as np \n",
    "df = pd.read_csv('Student_Scores.csv')\n",
    "print(df.head())"
   ]
  },
  {
   "cell_type": "code",
   "execution_count": 21,
   "metadata": {},
   "outputs": [
    {
     "name": "stdout",
     "output_type": "stream",
     "text": [
      "           Hours    Scores\n",
      "Hours   1.000000  0.976191\n",
      "Scores  0.976191  1.000000\n"
     ]
    },
    {
     "data": {
      "image/png": "[encoded data removed]",
      "text/plain": [
       "<Figure size 640x480 with 1 Axes>"
      ]
     },
     "metadata": {},
     "output_type": "display_data"
    }
   ],
   "source": [
    "df.plot.scatter(x='Hours',y='Scores',title='Scatter Plot')\n",
    "print(df.corr())\n"
   ]
  },
  {
   "cell_type": "code",
   "execution_count": 25,
   "metadata": {},
   "outputs": [],
   "source": [
    "df.describe()\n",
    "x = df['Hours'].values.reshape(-1,1)\n",
    "y=df['Scores'].values.reshape(-1,1)\n",
    "print(x.shape)\n",
    "print(y.shape)\n"
   ]
  },
  {
   "cell_type": "code",
   "execution_count": 7,
   "metadata": {},
   "outputs": [
    {
     "name": "stdout",
     "output_type": "stream",
     "text": [
      "[[25]\n",
      " [42]\n",
      " [47]\n",
      " [35]\n",
      " [20]\n",
      " [27]\n",
      " [41]\n",
      " [95]\n",
      " [75]\n",
      " [30]\n",
      " [30]\n",
      " [24]\n",
      " [54]\n",
      " [67]\n",
      " [86]\n",
      " [60]\n",
      " [85]\n",
      " [17]\n",
      " [69]\n",
      " [88]]\n",
      "[[81]\n",
      " [30]\n",
      " [21]\n",
      " [76]\n",
      " [62]]\n"
     ]
    }
   ],
   "source": [
    "from sklearn.model_selection import train_test_split\n",
    "\n",
    "x_train,x_test,y_train,y_test = train_test_split(x,y,test_size=0.2,random_state=42)\n",
    "print(y_train)\n",
    "print(y_test)"
   ]
  },
  {
   "cell_type": "code",
   "execution_count": 12,
   "metadata": {},
   "outputs": [
    {
     "name": "stdout",
     "output_type": "stream",
     "text": [
      "[[9.68207815]]\n",
      "[2.82689235]\n"
     ]
    }
   ],
   "source": [
    "from sklearn.linear_model import LinearRegression \n",
    "reg = LinearRegression()\n",
    "reg.fit(x_train,y_train)\n",
    "print(reg.coef_)\n",
    "print(reg.intercept_)\n"
   ]
  },
  {
   "cell_type": "code",
   "execution_count": 13,
   "metadata": {},
   "outputs": [
    {
     "name": "stdout",
     "output_type": "stream",
     "text": [
      "[[99.6476739]]\n"
     ]
    }
   ],
   "source": [
    "def calc(slope,intercept,hours):\n",
    "    return slope*hours + intercept\n",
    "\n",
    "score = calc(reg.coef_,reg.intercept_,10)\n",
    "print(score)\n"
   ]
  },
  {
   "cell_type": "code",
   "execution_count": 14,
   "metadata": {},
   "outputs": [
    {
     "name": "stdout",
     "output_type": "stream",
     "text": [
      "[[8.3]\n",
      " [2.5]\n",
      " [2.5]\n",
      " [6.9]\n",
      " [5.9]]\n",
      "[[99.6476739]]\n"
     ]
    }
   ],
   "source": [
    "print(x_test)\n",
    "y_pred = reg.predict(x_test)\n",
    "print(score)\n"
   ]
  },
  {
   "cell_type": "code",
   "execution_count": 16,
   "metadata": {},
   "outputs": [
    {
     "name": "stdout",
     "output_type": "stream",
     "text": [
      "   Actual  Predicted\n",
      "0      81  83.188141\n",
      "1      30  27.032088\n",
      "2      21  27.032088\n",
      "3      76  69.633232\n",
      "4      62  59.951153\n"
     ]
    }
   ],
   "source": [
    "df_pred = pd.DataFrame({'Actual':y_test.squeeze(),'Predicted': y_pred.squeeze()})\n",
    "print(df_pred)"
   ]
  },
  {
   "cell_type": "code",
   "execution_count": 18,
   "metadata": {},
   "outputs": [
    {
     "name": "stdout",
     "output_type": "stream",
     "text": [
      "Mean absolute error:3.920751\n",
      "Mean squared error:18.943212\n",
      "Root Mean Squared Error:4.352380\n"
     ]
    }
   ],
   "source": [
    "from sklearn.metrics import mean_absolute_error , mean_squared_error\n",
    "import numpy as np \n",
    "mae = mean_absolute_error(y_test,y_pred)\n",
    "mse = mean_squared_error(y_test,y_pred)\n",
    "rmse = np.sqrt(mse)\n",
    "\n",
    "print(f'Mean absolute error:{mae:2f}')\n",
    "print(f'Mean squared error:{mse:2f}')\n",
    "print(f'Root Mean Squared Error:{rmse:2f}')\n",
    "\n"
   ]
  },
  {
   "cell_type": "code",
   "execution_count": 27,
   "metadata": {},
   "outputs": [
    {
     "name": "stdout",
     "output_type": "stream",
     "text": [
      "       Height     Weight        Income  Age\n",
      "0  174.967142  83.892663  70990.331549   48\n",
      "1  168.617357  98.641250  63869.505244   36\n",
      "2  176.476885  49.021486  50894.455549   66\n",
      "3  185.230299  78.444539  40295.948334   63\n",
      "4  167.658466  60.240361  60473.349704   36\n"
     ]
    }
   ],
   "source": [
    "# Q.no 2 ==> For Age Predction , create a synthetic dataset and design a regression model to predict the age of the person \n",
    "\n",
    "import pandas as pd\n",
    "import numpy as np\n",
    "\n",
    "# Set random seed for reproducibility\n",
    "np.random.seed(42)\n",
    "\n",
    "# Define the number of samples\n",
    "num_sample = 500\n",
    "\n",
    "# Create the synthetic dataset\n",
    "data = {\n",
    "    'Height': np.random.normal(170, 10, num_sample),\n",
    "    'Weight': np.random.normal(70, 15, num_sample),\n",
    "    'Income': np.random.normal(50000, 15000, num_sample),\n",
    "    'Age': np.random.randint(18, 70, num_sample)\n",
    "}\n",
    "\n",
    "# Convert the dictionary to a DataFrame\n",
    "df = pd.DataFrame(data)\n",
    "\n",
    "# Display the first few rows of the DataFrame\n",
    "print(df.head())\n"
   ]
  },
  {
   "cell_type": "code",
   "execution_count": 38,
   "metadata": {},
   "outputs": [
    {
     "name": "stdout",
     "output_type": "stream",
     "text": [
      "249    41\n",
      "433    63\n",
      "19     50\n",
      "322    26\n",
      "332    61\n",
      "       ..\n",
      "106    33\n",
      "270    20\n",
      "348    50\n",
      "435    20\n",
      "102    45\n",
      "Name: Age, Length: 400, dtype: int32\n",
      "361    34\n",
      "73     23\n",
      "374    52\n",
      "155    29\n",
      "104    27\n",
      "       ..\n",
      "347    43\n",
      "86     61\n",
      "75     21\n",
      "438    26\n",
      "15     62\n",
      "Name: Age, Length: 100, dtype: int32\n"
     ]
    }
   ],
   "source": [
    "\n",
    "from sklearn.model_selection import train_test_split \n",
    "x=df[['Height','Weight','Income']]\n",
    "y = df['Age']\n",
    "x_train ,x_test,y_train,y_test=train_test_split(x,y,test_size=0.2,random_state=42)\n",
    "print(y_train)\n",
    "print(y_test)\n"
   ]
  },
  {
   "cell_type": "code",
   "execution_count": 37,
   "metadata": {},
   "outputs": [
    {
     "name": "stdout",
     "output_type": "stream",
     "text": [
      "    Actual  Predicted\n",
      "0       34  41.863883\n",
      "1       23  43.601769\n",
      "2       52  39.928885\n",
      "3       29  43.156457\n",
      "4       27  42.435737\n",
      "..     ...        ...\n",
      "95      43  43.336506\n",
      "96      61  41.701281\n",
      "97      21  43.901189\n",
      "98      26  44.634291\n",
      "99      62  43.751464\n",
      "\n",
      "[100 rows x 2 columns]\n"
     ]
    }
   ],
   "source": [
    "from sklearn.linear_model import LinearRegression \n",
    "reg = LinearRegression()\n",
    "reg.fit(x_train,y_train)\n",
    "y_pred = reg.predict(x_test)\n",
    "\n",
    "df_pred = pd.DataFrame({'Actual':y_test.squeeze(),'Predicted':y_pred.squeeze()})\n",
    "\n",
    "print(df_pred)\n"
   ]
  },
  {
   "cell_type": "code",
   "execution_count": 39,
   "metadata": {},
   "outputs": [
    {
     "name": "stdout",
     "output_type": "stream",
     "text": [
      "Mean absolute error:12.906380\n",
      "Mean squared error:226.377225\n",
      "Root Mean Squared Error:15.045837\n"
     ]
    }
   ],
   "source": [
    "from sklearn.metrics import mean_absolute_error, mean_squared_error\n",
    "import numpy as np \n",
    "mae = mean_absolute_error(y_test,y_pred)\n",
    "mse = mean_squared_error(y_test,y_pred)\n",
    "rmse = np.sqrt(mse)\n",
    "print(f'Mean absolute error:{mae:2f}')\n",
    "print(f'Mean squared error:{mse:2f}')\n",
    "print(f'Root Mean Squared Error:{rmse:2f}')\n",
    "\n"
   ]
  },
  {
   "cell_type": "code",
   "execution_count": 48,
   "metadata": {},
   "outputs": [
    {
     "name": "stdout",
     "output_type": "stream",
     "text": [
      "  seller_type  bedroom layout_type      property_type  locality   price  area  \\\n",
      "0       OWNER        1         BHK  Independent Floor   Mundhwa   6,750   450   \n",
      "1       OWNER        2         BHK          Apartment     Wakad  18,000   916   \n",
      "2       OWNER        3         BHK          Apartment   Wagholi  16,500  1085   \n",
      "3       OWNER        1          RK   Studio Apartment   Kothrud   8,000   250   \n",
      "4       OWNER        2         BHK          Apartment  Yerawada  25,000  1005   \n",
      "\n",
      "     furnish_type bathroom  \n",
      "0     Unfurnished        1  \n",
      "1     Unfurnished        2  \n",
      "2  Semi-Furnished        3  \n",
      "3       Furnished        1  \n",
      "4  Semi-Furnished        2  \n"
     ]
    }
   ],
   "source": [
    "#Qno 3 ==> Design and implement linear regression model to predict houserent using houserent dataset \n",
    "\n",
    "import pandas as pd \n",
    "from math import floor\n",
    "import matplotlib.pyplot as plt \n",
    "import numpy as np \n",
    "df = pd.read_csv('Pune_rent.csv')\n",
    "print(df.head())"
   ]
  },
  {
   "cell_type": "code",
   "execution_count": 53,
   "metadata": {},
   "outputs": [
    {
     "name": "stdout",
     "output_type": "stream",
     "text": [
      "  seller_type  bedroom layout_type      property_type  locality   price  area  \\\n",
      "0       OWNER        1         BHK  Independent Floor   Mundhwa   6,750   450   \n",
      "1       OWNER        2         BHK          Apartment     Wakad  18,000   916   \n",
      "2       OWNER        3         BHK          Apartment   Wagholi  16,500  1085   \n",
      "3       OWNER        1          RK   Studio Apartment   Kothrud   8,000   250   \n",
      "4       OWNER        2         BHK          Apartment  Yerawada  25,000  1005   \n",
      "\n",
      "     furnish_type bathroom  \n",
      "0     Unfurnished        1  \n",
      "1     Unfurnished        2  \n",
      "2  Semi-Furnished        3  \n",
      "3       Furnished        1  \n",
      "4  Semi-Furnished        2  \n",
      "Missing value:\n",
      " seller_type      0\n",
      "bedroom          0\n",
      "layout_type      0\n",
      "property_type    0\n",
      "locality         0\n",
      "price            0\n",
      "area             0\n",
      "furnish_type     0\n",
      "bathroom         0\n",
      "dtype: int64\n"
     ]
    }
   ],
   "source": [
    "mode_bathroom = df['bathroom'].mode()[0]\n",
    "df['bathroom'].fillna(mode_bathroom, inplace=True)\n",
    "print(df.head())\n",
    "\n",
    "print(\"Missing value:\\n\",df.isnull().sum())\n",
    "# With the above statement , we have found that there are no missing values in HouseRent Dataset                                              "
   ]
  },
  {
   "cell_type": "code",
   "execution_count": 64,
   "metadata": {},
   "outputs": [],
   "source": [
    "df_encoded = pd.get_dummies(df,columns=['seller_type'],drop_first=True)\n",
    "df_encoded2= pd.get_dummies(df,columns=['layout_type'],drop_first=True)\n",
    "df_encoded3 = pd.get_dummies(df,columns=['property_type'],drop_first=True)\n",
    "df_encoded4 = pd.get_dummies(df,columns=['locality'],drop_first=True)"
   ]
  },
  {
   "cell_type": "code",
   "execution_count": 65,
   "metadata": {},
   "outputs": [
    {
     "name": "stdout",
     "output_type": "stream",
     "text": [
      "10804    25,000\n",
      "19928    18,000\n",
      "19756    18,000\n",
      "3485     14,000\n",
      "8197     16,000\n",
      "          ...  \n",
      "11964    12,000\n",
      "21575    20,000\n",
      "5390     16,000\n",
      "860      22,000\n",
      "15795     9,900\n",
      "Name: price, Length: 18240, dtype: object\n",
      "3165     21,000\n",
      "13108    16,000\n",
      "12288    18,500\n",
      "2222     18,000\n",
      "22767    13,000\n",
      "          ...  \n",
      "22244    13,000\n",
      "12825    18,000\n",
      "3354     20,000\n",
      "20327    15,000\n",
      "1321     36,000\n",
      "Name: price, Length: 4560, dtype: object\n"
     ]
    }
   ],
   "source": [
    "\n",
    "from sklearn.model_selection import train_test_split \n",
    "x=df[['seller_type','layout_type','property_type','locality','area','bathroom','bedroom']]\n",
    "y = df['price']\n",
    "x_train ,x_test,y_train,y_test=train_test_split(x,y,test_size=0.2,random_state=42)\n",
    "print(y_train)\n",
    "print(y_test)\n"
   ]
  },
  {
   "cell_type": "code",
   "execution_count": 68,
   "metadata": {},
   "outputs": [
    {
     "ename": "ValueError",
     "evalue": "could not convert string to float: 'AGENT'",
     "output_type": "error",
     "traceback": [
      "\u001b[1;31m---------------------------------------------------------------------------\u001b[0m",
      "\u001b[1;31mValueError\u001b[0m                                Traceback (most recent call last)",
      "\u001b[1;32m~\\AppData\\Local\\Temp\\ipykernel_14460\\797657358.py\u001b[0m in \u001b[0;36m<module>\u001b[1;34m\u001b[0m\n\u001b[0;32m      1\u001b[0m \u001b[1;32mfrom\u001b[0m \u001b[0msklearn\u001b[0m\u001b[1;33m.\u001b[0m\u001b[0mlinear_model\u001b[0m \u001b[1;32mimport\u001b[0m \u001b[0mLinearRegression\u001b[0m\u001b[1;33m\u001b[0m\u001b[1;33m\u001b[0m\u001b[0m\n\u001b[0;32m      2\u001b[0m \u001b[0mreg\u001b[0m \u001b[1;33m=\u001b[0m \u001b[0mLinearRegression\u001b[0m\u001b[1;33m(\u001b[0m\u001b[1;33m)\u001b[0m\u001b[1;33m\u001b[0m\u001b[1;33m\u001b[0m\u001b[0m\n\u001b[1;32m----> 3\u001b[1;33m \u001b[0mreg\u001b[0m\u001b[1;33m.\u001b[0m\u001b[0mfit\u001b[0m\u001b[1;33m(\u001b[0m\u001b[0mx_train\u001b[0m\u001b[1;33m,\u001b[0m\u001b[0my_train\u001b[0m\u001b[1;33m)\u001b[0m\u001b[1;33m\u001b[0m\u001b[1;33m\u001b[0m\u001b[0m\n\u001b[0m\u001b[0;32m      4\u001b[0m \u001b[0my_pred\u001b[0m \u001b[1;33m=\u001b[0m \u001b[0mreg\u001b[0m\u001b[1;33m.\u001b[0m\u001b[0mpredict\u001b[0m\u001b[1;33m(\u001b[0m\u001b[0mx_test\u001b[0m\u001b[1;33m)\u001b[0m\u001b[1;33m\u001b[0m\u001b[1;33m\u001b[0m\u001b[0m\n",
      "\u001b[1;32mC:\\ProgramData\\Anaconda3\\lib\\site-packages\\sklearn\\linear_model\\_base.py\u001b[0m in \u001b[0;36mfit\u001b[1;34m(self, X, y, sample_weight)\u001b[0m\n\u001b[0;32m    660\u001b[0m         \u001b[0maccept_sparse\u001b[0m \u001b[1;33m=\u001b[0m \u001b[1;32mFalse\u001b[0m \u001b[1;32mif\u001b[0m \u001b[0mself\u001b[0m\u001b[1;33m.\u001b[0m\u001b[0mpositive\u001b[0m \u001b[1;32melse\u001b[0m \u001b[1;33m[\u001b[0m\u001b[1;34m\"csr\"\u001b[0m\u001b[1;33m,\u001b[0m \u001b[1;34m\"csc\"\u001b[0m\u001b[1;33m,\u001b[0m \u001b[1;34m\"coo\"\u001b[0m\u001b[1;33m]\u001b[0m\u001b[1;33m\u001b[0m\u001b[1;33m\u001b[0m\u001b[0m\n\u001b[0;32m    661\u001b[0m \u001b[1;33m\u001b[0m\u001b[0m\n\u001b[1;32m--> 662\u001b[1;33m         X, y = self._validate_data(\n\u001b[0m\u001b[0;32m    663\u001b[0m             \u001b[0mX\u001b[0m\u001b[1;33m,\u001b[0m \u001b[0my\u001b[0m\u001b[1;33m,\u001b[0m \u001b[0maccept_sparse\u001b[0m\u001b[1;33m=\u001b[0m\u001b[0maccept_sparse\u001b[0m\u001b[1;33m,\u001b[0m \u001b[0my_numeric\u001b[0m\u001b[1;33m=\u001b[0m\u001b[1;32mTrue\u001b[0m\u001b[1;33m,\u001b[0m \u001b[0mmulti_output\u001b[0m\u001b[1;33m=\u001b[0m\u001b[1;32mTrue\u001b[0m\u001b[1;33m\u001b[0m\u001b[1;33m\u001b[0m\u001b[0m\n\u001b[0;32m    664\u001b[0m         )\n",
      "\u001b[1;32mC:\\ProgramData\\Anaconda3\\lib\\site-packages\\sklearn\\base.py\u001b[0m in \u001b[0;36m_validate_data\u001b[1;34m(self, X, y, reset, validate_separately, **check_params)\u001b[0m\n\u001b[0;32m    579\u001b[0m                 \u001b[0my\u001b[0m \u001b[1;33m=\u001b[0m \u001b[0mcheck_array\u001b[0m\u001b[1;33m(\u001b[0m\u001b[0my\u001b[0m\u001b[1;33m,\u001b[0m \u001b[1;33m**\u001b[0m\u001b[0mcheck_y_params\u001b[0m\u001b[1;33m)\u001b[0m\u001b[1;33m\u001b[0m\u001b[1;33m\u001b[0m\u001b[0m\n\u001b[0;32m    580\u001b[0m             \u001b[1;32melse\u001b[0m\u001b[1;33m:\u001b[0m\u001b[1;33m\u001b[0m\u001b[1;33m\u001b[0m\u001b[0m\n\u001b[1;32m--> 581\u001b[1;33m                 \u001b[0mX\u001b[0m\u001b[1;33m,\u001b[0m \u001b[0my\u001b[0m \u001b[1;33m=\u001b[0m \u001b[0mcheck_X_y\u001b[0m\u001b[1;33m(\u001b[0m\u001b[0mX\u001b[0m\u001b[1;33m,\u001b[0m \u001b[0my\u001b[0m\u001b[1;33m,\u001b[0m \u001b[1;33m**\u001b[0m\u001b[0mcheck_params\u001b[0m\u001b[1;33m)\u001b[0m\u001b[1;33m\u001b[0m\u001b[1;33m\u001b[0m\u001b[0m\n\u001b[0m\u001b[0;32m    582\u001b[0m             \u001b[0mout\u001b[0m \u001b[1;33m=\u001b[0m \u001b[0mX\u001b[0m\u001b[1;33m,\u001b[0m \u001b[0my\u001b[0m\u001b[1;33m\u001b[0m\u001b[1;33m\u001b[0m\u001b[0m\n\u001b[0;32m    583\u001b[0m \u001b[1;33m\u001b[0m\u001b[0m\n",
      "\u001b[1;32mC:\\ProgramData\\Anaconda3\\lib\\site-packages\\sklearn\\utils\\validation.py\u001b[0m in \u001b[0;36mcheck_X_y\u001b[1;34m(X, y, accept_sparse, accept_large_sparse, dtype, order, copy, force_all_finite, ensure_2d, allow_nd, multi_output, ensure_min_samples, ensure_min_features, y_numeric, estimator)\u001b[0m\n\u001b[0;32m    962\u001b[0m         \u001b[1;32mraise\u001b[0m \u001b[0mValueError\u001b[0m\u001b[1;33m(\u001b[0m\u001b[1;34m\"y cannot be None\"\u001b[0m\u001b[1;33m)\u001b[0m\u001b[1;33m\u001b[0m\u001b[1;33m\u001b[0m\u001b[0m\n\u001b[0;32m    963\u001b[0m \u001b[1;33m\u001b[0m\u001b[0m\n\u001b[1;32m--> 964\u001b[1;33m     X = check_array(\n\u001b[0m\u001b[0;32m    965\u001b[0m         \u001b[0mX\u001b[0m\u001b[1;33m,\u001b[0m\u001b[1;33m\u001b[0m\u001b[1;33m\u001b[0m\u001b[0m\n\u001b[0;32m    966\u001b[0m         \u001b[0maccept_sparse\u001b[0m\u001b[1;33m=\u001b[0m\u001b[0maccept_sparse\u001b[0m\u001b[1;33m,\u001b[0m\u001b[1;33m\u001b[0m\u001b[1;33m\u001b[0m\u001b[0m\n",
      "\u001b[1;32mC:\\ProgramData\\Anaconda3\\lib\\site-packages\\sklearn\\utils\\validation.py\u001b[0m in \u001b[0;36mcheck_array\u001b[1;34m(array, accept_sparse, accept_large_sparse, dtype, order, copy, force_all_finite, ensure_2d, allow_nd, ensure_min_samples, ensure_min_features, estimator)\u001b[0m\n\u001b[0;32m    744\u001b[0m                     \u001b[0marray\u001b[0m \u001b[1;33m=\u001b[0m \u001b[0marray\u001b[0m\u001b[1;33m.\u001b[0m\u001b[0mastype\u001b[0m\u001b[1;33m(\u001b[0m\u001b[0mdtype\u001b[0m\u001b[1;33m,\u001b[0m \u001b[0mcasting\u001b[0m\u001b[1;33m=\u001b[0m\u001b[1;34m\"unsafe\"\u001b[0m\u001b[1;33m,\u001b[0m \u001b[0mcopy\u001b[0m\u001b[1;33m=\u001b[0m\u001b[1;32mFalse\u001b[0m\u001b[1;33m)\u001b[0m\u001b[1;33m\u001b[0m\u001b[1;33m\u001b[0m\u001b[0m\n\u001b[0;32m    745\u001b[0m                 \u001b[1;32melse\u001b[0m\u001b[1;33m:\u001b[0m\u001b[1;33m\u001b[0m\u001b[1;33m\u001b[0m\u001b[0m\n\u001b[1;32m--> 746\u001b[1;33m                     \u001b[0marray\u001b[0m \u001b[1;33m=\u001b[0m \u001b[0mnp\u001b[0m\u001b[1;33m.\u001b[0m\u001b[0masarray\u001b[0m\u001b[1;33m(\u001b[0m\u001b[0marray\u001b[0m\u001b[1;33m,\u001b[0m \u001b[0morder\u001b[0m\u001b[1;33m=\u001b[0m\u001b[0morder\u001b[0m\u001b[1;33m,\u001b[0m \u001b[0mdtype\u001b[0m\u001b[1;33m=\u001b[0m\u001b[0mdtype\u001b[0m\u001b[1;33m)\u001b[0m\u001b[1;33m\u001b[0m\u001b[1;33m\u001b[0m\u001b[0m\n\u001b[0m\u001b[0;32m    747\u001b[0m             \u001b[1;32mexcept\u001b[0m \u001b[0mComplexWarning\u001b[0m \u001b[1;32mas\u001b[0m \u001b[0mcomplex_warning\u001b[0m\u001b[1;33m:\u001b[0m\u001b[1;33m\u001b[0m\u001b[1;33m\u001b[0m\u001b[0m\n\u001b[0;32m    748\u001b[0m                 raise ValueError(\n",
      "\u001b[1;32mC:\\ProgramData\\Anaconda3\\lib\\site-packages\\pandas\\core\\generic.py\u001b[0m in \u001b[0;36m__array__\u001b[1;34m(self, dtype)\u001b[0m\n\u001b[0;32m   2062\u001b[0m \u001b[1;33m\u001b[0m\u001b[0m\n\u001b[0;32m   2063\u001b[0m     \u001b[1;32mdef\u001b[0m \u001b[0m__array__\u001b[0m\u001b[1;33m(\u001b[0m\u001b[0mself\u001b[0m\u001b[1;33m,\u001b[0m \u001b[0mdtype\u001b[0m\u001b[1;33m:\u001b[0m \u001b[0mnpt\u001b[0m\u001b[1;33m.\u001b[0m\u001b[0mDTypeLike\u001b[0m \u001b[1;33m|\u001b[0m \u001b[1;32mNone\u001b[0m \u001b[1;33m=\u001b[0m \u001b[1;32mNone\u001b[0m\u001b[1;33m)\u001b[0m \u001b[1;33m->\u001b[0m \u001b[0mnp\u001b[0m\u001b[1;33m.\u001b[0m\u001b[0mndarray\u001b[0m\u001b[1;33m:\u001b[0m\u001b[1;33m\u001b[0m\u001b[1;33m\u001b[0m\u001b[0m\n\u001b[1;32m-> 2064\u001b[1;33m         \u001b[1;32mreturn\u001b[0m \u001b[0mnp\u001b[0m\u001b[1;33m.\u001b[0m\u001b[0masarray\u001b[0m\u001b[1;33m(\u001b[0m\u001b[0mself\u001b[0m\u001b[1;33m.\u001b[0m\u001b[0m_values\u001b[0m\u001b[1;33m,\u001b[0m \u001b[0mdtype\u001b[0m\u001b[1;33m=\u001b[0m\u001b[0mdtype\u001b[0m\u001b[1;33m)\u001b[0m\u001b[1;33m\u001b[0m\u001b[1;33m\u001b[0m\u001b[0m\n\u001b[0m\u001b[0;32m   2065\u001b[0m \u001b[1;33m\u001b[0m\u001b[0m\n\u001b[0;32m   2066\u001b[0m     def __array_wrap__(\n",
      "\u001b[1;31mValueError\u001b[0m: could not convert string to float: 'AGENT'"
     ]
    }
   ],
   "source": [
    "from sklearn.linear_model import LinearRegression \n",
    "reg = LinearRegression()\n",
    "reg.fit(x_train,y_train)\n",
    "y_pred = reg.predict(x_test)\n",
    "# This did not work ."
   ]
  },
  {
   "cell_type": "code",
   "execution_count": 8,
   "metadata": {},
   "outputs": [
    {
     "name": "stdout",
     "output_type": "stream",
     "text": [
      "Accuracy score :  1.0\n",
      "Classification report: \n",
      "                precision    recall  f1-score   support\n",
      "\n",
      "           0       1.00      1.00      1.00        10\n",
      "           1       1.00      1.00      1.00         9\n",
      "           2       1.00      1.00      1.00        11\n",
      "\n",
      "    accuracy                           1.00        30\n",
      "   macro avg       1.00      1.00      1.00        30\n",
      "weighted avg       1.00      1.00      1.00        30\n",
      "\n",
      "Confusion matrix: \n",
      "  [[10  0  0]\n",
      " [ 0  9  0]\n",
      " [ 0  0 11]]\n"
     ]
    }
   ],
   "source": [
    "## Question 1 :                                                                                                   dt: 19-9-24\n",
    "''' Implement decision tree classification model on Iris dataset . Estimate the accuracy of the model '''\n",
    "\n",
    "import pandas as pd \n",
    "from sklearn.datasets import load_iris\n",
    "from sklearn.model_selection import train_test_split \n",
    "from sklearn.tree import DecisionTreeClassifier\n",
    "from sklearn.metrics import accuracy_score,classification_report,confusion_matrix \n",
    "\n",
    "#Load the iris dataset\n",
    "\n",
    "iris = load_iris()\n",
    "df = pd.DataFrame(data=iris.data,columns=iris.feature_names)\n",
    "df['Species'] = iris.target #Here , Species is the dependent variable \n",
    "\n",
    "#print(\"Data Frame Head : \",df.head())\n",
    "#print(\"Data Frame Info : \",df.info())\n",
    "\n",
    "# Define features and target , and split the data \n",
    "#Define the features and target \n",
    "\n",
    "x = df.drop('Species',axis=1)\n",
    "y = df['Species']\n",
    "\n",
    "#Split data \n",
    "\n",
    "x_train ,x_test,y_train,y_test=train_test_split(x,y,test_size=0.2,random_state=42)\n",
    "#print(y_train)\n",
    "#print(y_test)\n",
    "\n",
    "# Initialize and train decision tree classifier \n",
    "\n",
    "model = DecisionTreeClassifier(random_state = 42)\n",
    "model.fit(x_train,y_train)\n",
    "\n",
    "# Make predictions and evaluate model \n",
    "\n",
    "y_pred = model.predict(x_test)\n",
    "accuracy = accuracy_score(y_test,y_pred)\n",
    "report = classification_report(y_test,y_pred)\n",
    "conf_matrix = confusion_matrix(y_test,y_pred)\n",
    "\n",
    "print(\"Accuracy score : \" , accuracy)\n",
    "print(\"Classification report: \\n \" , report)\n",
    "print(\"Confusion matrix: \\n \" , conf_matrix)\n",
    "\n",
    "\n",
    "\n"
   ]
  },
  {
   "cell_type": "code",
   "execution_count": 14,
   "metadata": {},
   "outputs": [
    {
     "name": "stdout",
     "output_type": "stream",
     "text": [
      "Accuracy score :  1.0\n",
      "Classification report: \n",
      "                precision    recall  f1-score   support\n",
      "\n",
      "           0       1.00      1.00      1.00        10\n",
      "           1       1.00      1.00      1.00         9\n",
      "           2       1.00      1.00      1.00        11\n",
      "\n",
      "    accuracy                           1.00        30\n",
      "   macro avg       1.00      1.00      1.00        30\n",
      "weighted avg       1.00      1.00      1.00        30\n",
      "\n",
      "Confusion matrix: \n",
      "  [[10  0  0]\n",
      " [ 0  9  0]\n",
      " [ 0  0 11]]\n"
     ]
    }
   ],
   "source": [
    "### Question 2:                                                                                                     dt: 19-9-24\n",
    "''' Implement K-Nearest Neighbours on Iris Dataset  and estimate accuracy o9f the model '''\n",
    "\n",
    "import pandas as pd \n",
    "from  sklearn.datasets import load_iris\n",
    "from sklearn.neighbors import KNeighborsClassifier\n",
    "from sklearn.model_selection import train_test_split\n",
    "from sklearn.metrics import accuracy_score,classification_report,confusion_matrix\n",
    "\n",
    "# Step 1 : Load the data \n",
    "\n",
    "iris = load_iris()\n",
    "df = pd.DataFrame(data=iris.data,columns=iris.feature_names)\n",
    "# Print head and info \n",
    "\n",
    "# Step 2 : PreProcessing done is minimal .\n",
    "\n",
    "# Step 3 : Define features and target , and split the data \n",
    "df['Species'] = iris.target \n",
    "x = df.drop('Species',axis=1)\n",
    "y = df['Species']\n",
    "x_train ,x_test,y_train,y_test=train_test_split(x,y,test_size=0.2,random_state=42)\n",
    "#print(y_train)\n",
    "#print(y_test)\n",
    "\n",
    "# Step 4 : Initialize and train KNN Classifier \n",
    "\n",
    "knn = KNeighborsClassifier(n_neighbors=3)\n",
    "knn.fit(x_train,y_train)\n",
    "\n",
    "# Step 5 : Make Predictions and evaluate model \n",
    "\n",
    "y_pred = knn.predict(x_test)\n",
    "accuracy = accuracy_score(y_test,y_pred)\n",
    "report = classification_report(y_test,y_pred)\n",
    "conf_matrix = confusion_matrix(y_test,y_pred)\n",
    "\n",
    "print(\"Accuracy score : \" , accuracy)\n",
    "print(\"Classification report: \\n \" , report)\n",
    "print(\"Confusion matrix: \\n \" , conf_matrix)\n"
   ]
  },
  {
   "cell_type": "code",
   "execution_count": null,
   "metadata": {},
   "outputs": [],
   "source": [
    "### Question 3 (Optional )\n",
    "'''\n",
    "Try the models on SoyaBean Dataset \n",
    "'''"
   ]
  }
 ],
 "metadata": {
  "kernelspec": {
   "display_name": "Python 3 (ipykernel)",
   "language": "python",
   "name": "python3"
  },
  "language_info": {
   "codemirror_mode": {
    "name": "ipython",
    "version": 3
   },
   "file_extension": ".py",
   "mimetype": "text/x-python",
   "name": "python",
   "nbconvert_exporter": "python",
   "pygments_lexer": "ipython3",
   "version": "3.10.9"
  }
 },
 "nbformat": 4,
 "nbformat_minor": 2
}
